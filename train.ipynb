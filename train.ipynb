{
  "cells": [
    {
      "cell_type": "code",
      "metadata": {
        "jukit_cell_id": "NONE"
      },
      "source": [
        "import numpy as np\n",
        "import matplotlib.pyplot as plt\n",
        "from cs231n.classifiers.fc_net import *\n",
        "from cs231n.data_utils import get_CIFAR10_data\n",
        "from cs231n.gradient_check import eval_numerical_gradient, eval_numerical_gradient_array\n",
        "from cs231n.solver import Solver\n",
        "import os\n",
        "import load_mnist\n",
        "\n",
        "load_mnist.init()\n",
        "mnist_X_train, mnist_y_train, mnist_X_test, mnist_y_test = load_mnist.load()\n",
        "mnist_data={}\n",
        "mnist_data['X_train'] = mnist_X_train\n",
        "mnist_data['y_train'] = mnist_y_train\n",
        "mnist_data['X_val'] = mnist_X_test\n",
        "mnist_data['y_val'] = mnist_y_test\n",
        "mnist_data['X_test'] = mnist_X_test\n",
        "mnist_data['y_test'] = mnist_y_test\n",
        "model = FullyConnectedNet(\n",
        "[300, 300, 300, 300, 300],\n",
        "weight_scale=3e-2,\n",
        "input_dim = 784\n",
        ")\n",
        "solver = Solver(\n",
        "model,\n",
        "mnist_data,\n",
        "num_epochs=50,\n",
        "batch_size=100,\n",
        "update_rule=\"adam\",\n",
        "optim_config={'learning_rate': 6.5e-4},\n",
        "verbose=True, lr_decay = 0.9\n",
        ")\n",
        "solver.train()\n",
        "print()\n",
        "import pickle\n",
        "with open('testmodel.pickle', 'wb') as handle:\n",
        "    pickle.dump(model, handle)"
      ],
      "outputs": [
        {
          "output_type": "stream",
          "name": "stdout",
          "text": "=========== You can safely ignore the message below if you are NOT working on ConvolutionalNetworks.ipynb ===========\n\tYou will need to compile a Cython extension for a portion of this assignment.\n\tThe instructions to do this will be given in a section of the notebook below.\n\u001b[0;31m---------------------------------------------------------------------------\u001b[0m\n\u001b[0;31mNameError\u001b[0m                                 Traceback (most recent call last)\nCell \u001b[0;32mIn[4], line 125\u001b[0m\n\u001b[1;32m    117\u001b[0m url_base \u001b[38;5;241m=\u001b[39m \u001b[38;5;124m'\u001b[39m\u001b[38;5;124mhttp://yann.lecun.com/exdb/mnist/\u001b[39m\u001b[38;5;124m'\u001b[39m\n\u001b[1;32m    118\u001b[0m key_file \u001b[38;5;241m=\u001b[39m {\n\u001b[1;32m    119\u001b[0m     \u001b[38;5;124m'\u001b[39m\u001b[38;5;124mtrain_img\u001b[39m\u001b[38;5;124m'\u001b[39m:\u001b[38;5;124m'\u001b[39m\u001b[38;5;124mtrain-images-idx3-ubyte.gz\u001b[39m\u001b[38;5;124m'\u001b[39m,\n\u001b[1;32m    120\u001b[0m     \u001b[38;5;124m'\u001b[39m\u001b[38;5;124mtrain_label\u001b[39m\u001b[38;5;124m'\u001b[39m:\u001b[38;5;124m'\u001b[39m\u001b[38;5;124mtrain-labels-idx1-ubyte.gz\u001b[39m\u001b[38;5;124m'\u001b[39m,\n\u001b[1;32m    121\u001b[0m     \u001b[38;5;124m'\u001b[39m\u001b[38;5;124mtest_img\u001b[39m\u001b[38;5;124m'\u001b[39m:\u001b[38;5;124m'\u001b[39m\u001b[38;5;124mt10k-images-idx3-ubyte.gz\u001b[39m\u001b[38;5;124m'\u001b[39m,\n\u001b[1;32m    122\u001b[0m     \u001b[38;5;124m'\u001b[39m\u001b[38;5;124mtest_label\u001b[39m\u001b[38;5;124m'\u001b[39m:\u001b[38;5;124m'\u001b[39m\u001b[38;5;124mt10k-labels-idx1-ubyte.gz\u001b[39m\u001b[38;5;124m'\u001b[39m\n\u001b[1;32m    123\u001b[0m }\n\u001b[0;32m--> 125\u001b[0m dataset_dir \u001b[38;5;241m=\u001b[39m os\u001b[38;5;241m.\u001b[39mpath\u001b[38;5;241m.\u001b[39mdirname(os\u001b[38;5;241m.\u001b[39mpath\u001b[38;5;241m.\u001b[39mabspath(\u001b[38;5;18;43m__file__\u001b[39;49m))\n\u001b[1;32m    126\u001b[0m save_file \u001b[38;5;241m=\u001b[39m dataset_dir \u001b[38;5;241m+\u001b[39m \u001b[38;5;124m\"\u001b[39m\u001b[38;5;124m/mnist.pkl\u001b[39m\u001b[38;5;124m\"\u001b[39m\n\u001b[1;32m    128\u001b[0m train_num \u001b[38;5;241m=\u001b[39m \u001b[38;5;241m60000\u001b[39m\n\n\u001b[0;31mNameError\u001b[0m: name '__file__' is not defined\n"
        }
      ],
      "execution_count": 1
    }
  ],
  "metadata": {
    "anaconda-cloud": {},
    "kernelspec": {
      "display_name": "python",
      "language": "python",
      "name": "python3"
    }
  },
  "nbformat": 4,
  "nbformat_minor": 4
}